{
 "cells": [
  {
   "cell_type": "code",
   "execution_count": 12,
   "metadata": {},
   "outputs": [],
   "source": [
    "import os\n",
    "import streamlit as st\n",
    "from langchain.llms import OpenAI\n",
    "from langchain.prompts import PromptTemplate\n",
    "from langchain.chains import LLMChain\n",
    "\n",
    "# Set up OpenAI API key\n",
    "openai_api_key = os.getenv(\"OPENAI_API_KEY\")\n",
    "\n",
    "# Load your restaurant data\n",
    "with open('D:\\Users\\Dell\\FastFoodResChatbot\\data.txt', 'r') as file:\n",
    "    restaurant_data = file.read()\n",
    "\n",
    "# Initialize the OpenAI LLM\n",
    "llm = OpenAI(api_key=openai_api_key, temperature=0.3)\n",
    "\n",
    "# Create a prompt template\n",
    "prompt_template = PromptTemplate(\n",
    "    input_variables=[\"question\"],\n",
    "    template=f\"{restaurant_data}\\nCustomer: {{question}}\\nBot:\",\n",
    ")\n",
    "\n",
    "# Create a LangChain LLM chain\n",
    "chain = LLMChain(llm=llm, prompt=prompt_template)\n",
    "\n",
    "# Streamlit UI\n",
    "st.title(\"Restaurant Chatbot\")\n",
    "st.write(\"Ask me anything about our restaurant!\")\n",
    "\n",
    "question = st.text_input(\"Your question:\")\n",
    "if question:\n",
    "    response = chain.run(question=question)\n",
    "    st.write(f\"Bot: {response}\")\n"
   ]
  },
  {
   "cell_type": "code",
   "execution_count": 9,
   "metadata": {},
   "outputs": [],
   "source": [
    "load_dotenv() #take environment variables from .env\n",
    "KEY = os.getenv(\"OPENAI_API_KEY\")"
   ]
  },
  {
   "cell_type": "code",
   "execution_count": 13,
   "metadata": {},
   "outputs": [],
   "source": [
    "llm = ChatOpenAI(openai_api_key = KEY, model_name = 'gpt-3.5-turbo', temperature = 0.3)\n"
   ]
  },
  {
   "cell_type": "code",
   "execution_count": 17,
   "metadata": {},
   "outputs": [],
   "source": [
    "TEMPLATE = \"\"\"\n",
    "\n",
    "You own a restaurant. Restaurant name is Huzi and the Huzi only sales Fast food.\n",
    "It only sells shawarma in fast food. Both platter and role shawarma\n",
    "\n",
    "\n",
    "\n",
    "\"\"\""
   ]
  },
  {
   "cell_type": "code",
   "execution_count": 15,
   "metadata": {},
   "outputs": [
    {
     "ename": "NameError",
     "evalue": "name 'TEMPLATE' is not defined",
     "output_type": "error",
     "traceback": [
      "\u001b[1;31m---------------------------------------------------------------------------\u001b[0m",
      "\u001b[1;31mNameError\u001b[0m                                 Traceback (most recent call last)",
      "Cell \u001b[1;32mIn[15], line 3\u001b[0m\n\u001b[0;32m      1\u001b[0m prompt \u001b[38;5;241m=\u001b[39m \u001b[38;5;124mf\u001b[39m\u001b[38;5;124m\"\"\"\u001b[39m\n\u001b[0;32m      2\u001b[0m \n\u001b[1;32m----> 3\u001b[0m \u001b[38;5;124mBy considering the \u001b[39m\u001b[38;5;132;01m{\u001b[39;00mTEMPLATE\u001b[38;5;132;01m}\u001b[39;00m\n\u001b[0;32m      4\u001b[0m \u001b[38;5;124mAnswer the following questions:\u001b[39m\n\u001b[0;32m      5\u001b[0m \n\u001b[0;32m      6\u001b[0m \u001b[38;5;124mWhat is your restaurant\u001b[39m\u001b[38;5;124m'\u001b[39m\u001b[38;5;124ms name?\u001b[39m\n\u001b[0;32m      7\u001b[0m \u001b[38;5;124mWhat do you sell?\u001b[39m\n\u001b[0;32m      8\u001b[0m \n\u001b[0;32m      9\u001b[0m \u001b[38;5;124m\"\"\"\u001b[39m\n",
      "\u001b[1;31mNameError\u001b[0m: name 'TEMPLATE' is not defined"
     ]
    }
   ],
   "source": [
    "prompt = f\"\"\"\n",
    "\n",
    "By considering the {TEMPLATE}\n",
    "Answer the following questions:\n",
    "\n",
    "What is your restaurant's name?\n",
    "What do you sell?\n",
    "\n",
    "\"\"\""
   ]
  },
  {
   "cell_type": "code",
   "execution_count": 18,
   "metadata": {},
   "outputs": [
    {
     "name": "stdout",
     "output_type": "stream",
     "text": [
      "content='I am a language model AI and do not have a physical restaurant.' response_metadata={'token_usage': {'completion_tokens': 14, 'prompt_tokens': 25, 'total_tokens': 39}, 'model_name': 'gpt-3.5-turbo-0125', 'system_fingerprint': None, 'finish_reason': 'stop', 'logprobs': None} id='run-ad40591c-b987-41f4-ab92-98c91fcd62a6-0' usage_metadata={'input_tokens': 25, 'output_tokens': 14, 'total_tokens': 39}\n"
     ]
    }
   ],
   "source": [
    "print(llm.invoke(prompt))"
   ]
  },
  {
   "cell_type": "code",
   "execution_count": null,
   "metadata": {},
   "outputs": [],
   "source": []
  }
 ],
 "metadata": {
  "kernelspec": {
   "display_name": "Python 3",
   "language": "python",
   "name": "python3"
  },
  "language_info": {
   "codemirror_mode": {
    "name": "ipython",
    "version": 3
   },
   "file_extension": ".py",
   "mimetype": "text/x-python",
   "name": "python",
   "nbconvert_exporter": "python",
   "pygments_lexer": "ipython3",
   "version": "3.8.19"
  }
 },
 "nbformat": 4,
 "nbformat_minor": 2
}
